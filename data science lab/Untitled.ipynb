{
 "cells": [
  {
   "cell_type": "markdown",
   "metadata": {
    "ein.tags": "worksheet-0",
    "slideshow": {
     "slide_type": "-"
    }
   },
   "source": [
    "# Data Science Lab, introduzione"
   ]
  },
  {
   "cell_type": "markdown",
   "metadata": {
    "ein.tags": "worksheet-0",
    "slideshow": {
     "slide_type": "-"
    }
   },
   "source": [
    "## Sommario"
   ]
  },
  {
   "cell_type": "markdown",
   "metadata": {
    "ein.tags": "worksheet-0",
    "slideshow": {
     "slide_type": "-"
    }
   },
   "source": [
    "Il corso sarà tenuto sia con R che con Python; l'esame sarà svolto con un progetto di gruppo (3-4 persone al massimo) su un dataset offerto dal docente (o proposto) fingendo di presentarlo ad un generico committente senza competenze statistiche.\n",
    "Si potrà scegliere il linguaggio usato (anche usarli entrambi)."
   ]
  },
  {
   "cell_type": "markdown",
   "metadata": {
    "ein.tags": "worksheet-0",
    "slideshow": {
     "slide_type": "-"
    }
   },
   "source": [
    "## Introduzione a R"
   ]
  },
  {
   "cell_type": "markdown",
   "metadata": {
    "ein.tags": "worksheet-0",
    "slideshow": {
     "slide_type": "-"
    }
   },
   "source": [
    "R, a differenza di Python, è stato pensato per l'analisi statistica; il gruppo di lavoro guidato da Wickham ha espanso il linguaggio programmando un pacchetto, `tidyverse`, per l'analisi di dati.\n",
    "Inoltre sono di aiuto anche i pacchetti `lubridate` e `tidyr`.\n",
    "Per ottimizzare il programma si può estendere con funzioni C++, inoltre col pacchetto `rcpp` si possono costruire delle interfacce tra i due programmi."
   ]
  },
  {
   "cell_type": "markdown",
   "metadata": {
    "ein.tags": "worksheet-0",
    "slideshow": {
     "slide_type": "-"
    }
   },
   "source": [
    "Per usare R, l'editor più usato è R-Studio; si usa anche Jupyter Notebook per programmare col kernel iR (installabile in locale, ma anche disponibile con Azure Notebooks o Kaggle)."
   ]
  },
  {
   "cell_type": "markdown",
   "metadata": {
    "ein.tags": "worksheet-0",
    "slideshow": {
     "slide_type": "-"
    }
   },
   "source": [
    "#### Task 1, operazioni tra vettori"
   ]
  },
  {
   "cell_type": "markdown",
   "metadata": {
    "ein.tags": "worksheet-0",
    "slideshow": {
     "slide_type": "-"
    }
   },
   "source": [
    "Il linguaggio R non possiede l'elemento scalare ma solamente vettori; inoltre, essendo interpretato, è particolarmente lento sui cicli (tramite funzioni del tipo `apply`).\n",
    "Le variabili sono _dinamiche_, quindi il tipo è assegnato in modo dinamico.\n",
    "\n",
    "Ai vettori è possibile assegnare una _label_ per identificare i valori (come alternativa si possono usare i numeri indice, che partono da 1)."
   ]
  },
  {
   "cell_type": "markdown",
   "metadata": {
    "ein.tags": "worksheet-0",
    "slideshow": {
     "slide_type": "-"
    }
   },
   "source": [
    "Le matrici sono elementi diverse dai vettori: le operazioni lecite sono diverse."
   ]
  },
  {
   "cell_type": "code",
   "execution_count": 1,
   "metadata": {
    "autoscroll": false,
    "collapsed": false,
    "ein.hycell": false,
    "ein.tags": "worksheet-0",
    "slideshow": {
     "slide_type": "-"
    }
   },
   "outputs": [
    {
     "data": {
      "text/html": [
       "<dl class=dl-horizontal>\n\t<dt>c1</dt>\n\t\t<dd>0.568198555428535</dd>\n\t<dt>c2</dt>\n\t\t<dd>0.430600471468642</dd>\n\t<dt>c3</dt>\n\t\t<dd>0.45643383464776</dd>\n\t<dt>c4</dt>\n\t\t<dd>0.608640537131578</dd>\n\t<dt>c5</dt>\n\t\t<dd>0.495961107034236</dd>\n</dl>\n"
      ],
      "text/latex": [
       "\\begin{description*}\n\\item[c1] 0.568198555428535\n\\item[c2] 0.430600471468642\n\\item[c3] 0.45643383464776\n\\item[c4] 0.608640537131578\n\\item[c5] 0.495961107034236\n\\end{description*}\n"
      ],
      "text/plain": [
       "       c1        c2        c3        c4        c5 \n0.5681986 0.4306005 0.4564338 0.6086405 0.4959611 "
      ]
     },
     "metadata": {},
     "output_type": "display_data"
    },
    {
     "data": {
      "text/html": [
       "<dl class=dl-horizontal>\n\t<dt>c1</dt>\n\t\t<dd>0.361315650434812</dd>\n\t<dt>c2</dt>\n\t\t<dd>0.289226798698208</dd>\n\t<dt>c3</dt>\n\t\t<dd>0.192735755048145</dd>\n\t<dt>c4</dt>\n\t\t<dd>0.307234051733378</dd>\n\t<dt>c5</dt>\n\t\t<dd>0.393471708473276</dd>\n</dl>\n"
      ],
      "text/latex": [
       "\\begin{description*}\n\\item[c1] 0.361315650434812\n\\item[c2] 0.289226798698208\n\\item[c3] 0.192735755048145\n\\item[c4] 0.307234051733378\n\\item[c5] 0.393471708473276\n\\end{description*}\n"
      ],
      "text/plain": [
       "       c1        c2        c3        c4        c5 \n0.3613157 0.2892268 0.1927358 0.3072341 0.3934717 "
      ]
     },
     "metadata": {},
     "output_type": "display_data"
    },
    {
     "data": {
      "text/html": [
       "FALSE"
      ],
      "text/latex": [
       "FALSE"
      ],
      "text/plain": [
       "[1] FALSE"
      ]
     },
     "metadata": {},
     "output_type": "display_data"
    }
   ],
   "source": [
    "A <- matrix(runif(25), nrow=5)\n",
    "B <- A %*% t(A)\n",
    "colnames(A) <- c(\"c1\", \"c2\", \"c3\", \"c4\", \"c5\")\n",
    "rownames(A) <- c(\"r1\", \"r2\", \"r3\", \"r4\", \"r5\")\n",
    "C <- solve(B)\n",
    "apply(A, 2, mean)\n",
    "apply(A, 2, sd)\n",
    "is.matrix(A[1,])"
   ]
  },
  {
   "cell_type": "markdown",
   "metadata": {
    "ein.tags": "worksheet-0",
    "slideshow": {
     "slide_type": "-"
    }
   },
   "source": [
    "#### Liste"
   ]
  },
  {
   "cell_type": "markdown",
   "metadata": {
    "ein.tags": "worksheet-0",
    "slideshow": {
     "slide_type": "-"
    }
   },
   "source": [
    "Le liste non hanno vincoli sul tipo di dato contenuto in ogni posizione."
   ]
  },
  {
   "cell_type": "code",
   "execution_count": 2,
   "metadata": {
    "autoscroll": false,
    "collapsed": false,
    "ein.hycell": false,
    "ein.tags": "worksheet-0",
    "slideshow": {
     "slide_type": "-"
    }
   },
   "outputs": [
    {
     "data": {
      "text/html": [
       "<table>\n<thead><tr><th></th><th scope=col>c1</th><th scope=col>c2</th><th scope=col>c3</th><th scope=col>c4</th><th scope=col>c5</th></tr></thead>\n<tbody>\n\t<tr><th scope=row>r1</th><td>0.09634314</td><td>0.3921300 </td><td>0.3385868 </td><td>0.65034351</td><td>0.78428590</td></tr>\n\t<tr><th scope=row>r2</th><td>0.97208613</td><td>0.7051744 </td><td>0.5985873 </td><td>0.64142628</td><td>0.14837768</td></tr>\n\t<tr><th scope=row>r3</th><td>0.62422542</td><td>0.0402798 </td><td>0.5756595 </td><td>0.08533046</td><td>0.01418607</td></tr>\n\t<tr><th scope=row>r4</th><td>0.83225138</td><td>0.2914961 </td><td>0.5967730 </td><td>0.82347862</td><td>0.90225094</td></tr>\n\t<tr><th scope=row>r5</th><td>0.31608671</td><td>0.7239220 </td><td>0.1725626 </td><td>0.84262382</td><td>0.63070495</td></tr>\n</tbody>\n</table>\n"
      ],
      "text/latex": [
       "\\begin{tabular}{r|lllll}\n  & c1 & c2 & c3 & c4 & c5\\\\\n\\hline\n\tr1 & 0.09634314 & 0.3921300  & 0.3385868  & 0.65034351 & 0.78428590\\\\\n\tr2 & 0.97208613 & 0.7051744  & 0.5985873  & 0.64142628 & 0.14837768\\\\\n\tr3 & 0.62422542 & 0.0402798  & 0.5756595  & 0.08533046 & 0.01418607\\\\\n\tr4 & 0.83225138 & 0.2914961  & 0.5967730  & 0.82347862 & 0.90225094\\\\\n\tr5 & 0.31608671 & 0.7239220  & 0.1725626  & 0.84262382 & 0.63070495\\\\\n\\end{tabular}\n"
      ],
      "text/plain": [
       "   c1         c2        c3        c4         c5        \nr1 0.09634314 0.3921300 0.3385868 0.65034351 0.78428590\nr2 0.97208613 0.7051744 0.5985873 0.64142628 0.14837768\nr3 0.62422542 0.0402798 0.5756595 0.08533046 0.01418607\nr4 0.83225138 0.2914961 0.5967730 0.82347862 0.90225094\nr5 0.31608671 0.7239220 0.1725626 0.84262382 0.63070495"
      ]
     },
     "metadata": {},
     "output_type": "display_data"
    },
    {
     "data": {
      "text/html": [
       "<table>\n<thead><tr><th></th><th scope=col>c1</th><th scope=col>c2</th><th scope=col>c3</th><th scope=col>c4</th><th scope=col>c5</th></tr></thead>\n<tbody>\n\t<tr><th scope=row>r1</th><td>0.09634314</td><td>0.3921300 </td><td>0.3385868 </td><td>0.65034351</td><td>0.78428590</td></tr>\n\t<tr><th scope=row>r2</th><td>0.97208613</td><td>0.7051744 </td><td>0.5985873 </td><td>0.64142628</td><td>0.14837768</td></tr>\n\t<tr><th scope=row>r3</th><td>0.62422542</td><td>0.0402798 </td><td>0.5756595 </td><td>0.08533046</td><td>0.01418607</td></tr>\n\t<tr><th scope=row>r4</th><td>0.83225138</td><td>0.2914961 </td><td>0.5967730 </td><td>0.82347862</td><td>0.90225094</td></tr>\n\t<tr><th scope=row>r5</th><td>0.31608671</td><td>0.7239220 </td><td>0.1725626 </td><td>0.84262382</td><td>0.63070495</td></tr>\n</tbody>\n</table>\n"
      ],
      "text/latex": [
       "\\begin{tabular}{r|lllll}\n  & c1 & c2 & c3 & c4 & c5\\\\\n\\hline\n\tr1 & 0.09634314 & 0.3921300  & 0.3385868  & 0.65034351 & 0.78428590\\\\\n\tr2 & 0.97208613 & 0.7051744  & 0.5985873  & 0.64142628 & 0.14837768\\\\\n\tr3 & 0.62422542 & 0.0402798  & 0.5756595  & 0.08533046 & 0.01418607\\\\\n\tr4 & 0.83225138 & 0.2914961  & 0.5967730  & 0.82347862 & 0.90225094\\\\\n\tr5 & 0.31608671 & 0.7239220  & 0.1725626  & 0.84262382 & 0.63070495\\\\\n\\end{tabular}\n"
      ],
      "text/plain": [
       "   c1         c2        c3        c4         c5        \nr1 0.09634314 0.3921300 0.3385868 0.65034351 0.78428590\nr2 0.97208613 0.7051744 0.5985873 0.64142628 0.14837768\nr3 0.62422542 0.0402798 0.5756595 0.08533046 0.01418607\nr4 0.83225138 0.2914961 0.5967730 0.82347862 0.90225094\nr5 0.31608671 0.7239220 0.1725626 0.84262382 0.63070495"
      ]
     },
     "metadata": {},
     "output_type": "display_data"
    },
    {
     "data": {
      "text/html": [
       "<table>\n<thead><tr><th></th><th scope=col>c1</th><th scope=col>c2</th><th scope=col>c3</th><th scope=col>c4</th><th scope=col>c5</th></tr></thead>\n<tbody>\n\t<tr><th scope=row>r1</th><td>0.09634314</td><td>0.3921300 </td><td>0.3385868 </td><td>0.65034351</td><td>0.78428590</td></tr>\n\t<tr><th scope=row>r2</th><td>0.97208613</td><td>0.7051744 </td><td>0.5985873 </td><td>0.64142628</td><td>0.14837768</td></tr>\n\t<tr><th scope=row>r3</th><td>0.62422542</td><td>0.0402798 </td><td>0.5756595 </td><td>0.08533046</td><td>0.01418607</td></tr>\n\t<tr><th scope=row>r4</th><td>0.83225138</td><td>0.2914961 </td><td>0.5967730 </td><td>0.82347862</td><td>0.90225094</td></tr>\n\t<tr><th scope=row>r5</th><td>0.31608671</td><td>0.7239220 </td><td>0.1725626 </td><td>0.84262382</td><td>0.63070495</td></tr>\n</tbody>\n</table>\n"
      ],
      "text/latex": [
       "\\begin{tabular}{r|lllll}\n  & c1 & c2 & c3 & c4 & c5\\\\\n\\hline\n\tr1 & 0.09634314 & 0.3921300  & 0.3385868  & 0.65034351 & 0.78428590\\\\\n\tr2 & 0.97208613 & 0.7051744  & 0.5985873  & 0.64142628 & 0.14837768\\\\\n\tr3 & 0.62422542 & 0.0402798  & 0.5756595  & 0.08533046 & 0.01418607\\\\\n\tr4 & 0.83225138 & 0.2914961  & 0.5967730  & 0.82347862 & 0.90225094\\\\\n\tr5 & 0.31608671 & 0.7239220  & 0.1725626  & 0.84262382 & 0.63070495\\\\\n\\end{tabular}\n"
      ],
      "text/plain": [
       "   c1         c2        c3        c4         c5        \nr1 0.09634314 0.3921300 0.3385868 0.65034351 0.78428590\nr2 0.97208613 0.7051744 0.5985873 0.64142628 0.14837768\nr3 0.62422542 0.0402798 0.5756595 0.08533046 0.01418607\nr4 0.83225138 0.2914961 0.5967730 0.82347862 0.90225094\nr5 0.31608671 0.7239220 0.1725626 0.84262382 0.63070495"
      ]
     },
     "metadata": {},
     "output_type": "display_data"
    }
   ],
   "source": [
    "l1 <- list(matrice = A, inversa = C)\n",
    "l1$matrice\n",
    "l1[[1]]\n",
    "l1[[\"matrice\"]]"
   ]
  },
  {
   "cell_type": "markdown",
   "metadata": {
    "ein.tags": "worksheet-0",
    "slideshow": {
     "slide_type": "-"
    }
   },
   "source": [
    "#### Data frame"
   ]
  },
  {
   "cell_type": "markdown",
   "metadata": {
    "ein.tags": "worksheet-0",
    "slideshow": {
     "slide_type": "-"
    }
   },
   "source": [
    "L'oggetto data.frame è una tabella di dati, simile alla matrice ma che può contenere tipi di dato diversi per ogni colonna; è come un aggregato di vettori della stessa lunghezza, ciascuno con un tipo diverso.\n",
    "Alternativamente, può essere descritto come una lista con elementi di lunghezza uguale."
   ]
  },
  {
   "cell_type": "code",
   "execution_count": 8,
   "metadata": {
    "autoscroll": false,
    "collapsed": false,
    "ein.hycell": false,
    "ein.tags": "worksheet-0",
    "slideshow": {
     "slide_type": "-"
    }
   },
   "outputs": [
    {
     "data": {
      "text/plain": [
       "  Sepal.Length    Sepal.Width     Petal.Length    Petal.Width   \n Min.   :4.300   Min.   :2.000   Min.   :1.000   Min.   :0.100  \n 1st Qu.:5.100   1st Qu.:2.800   1st Qu.:1.600   1st Qu.:0.300  \n Median :5.800   Median :3.000   Median :4.350   Median :1.300  \n Mean   :5.843   Mean   :3.057   Mean   :3.758   Mean   :1.199  \n 3rd Qu.:6.400   3rd Qu.:3.300   3rd Qu.:5.100   3rd Qu.:1.800  \n Max.   :7.900   Max.   :4.400   Max.   :6.900   Max.   :2.500  \n       Species  \n setosa    :50  \n versicolor:50  \n virginica :50  \n                \n                \n                "
      ]
     },
     "metadata": {},
     "output_type": "display_data"
    },
    {
     "data": {
      "text/html": [
       "<ol class=list-inline>\n\t<li>150</li>\n\t<li>5</li>\n</ol>\n"
      ],
      "text/latex": [
       "\\begin{enumerate*}\n\\item 150\n\\item 5\n\\end{enumerate*}\n"
      ],
      "text/plain": [
       "[1] 150   5"
      ]
     },
     "metadata": {},
     "output_type": "display_data"
    }
   ],
   "source": [
    "data(iris)\n",
    "summary(iris)  # summary of each column\n",
    "dim(iris)      # return size of iris"
   ]
  }
 ],
 "metadata": {
  "kernelspec": {
   "display_name": "R",
   "name": "ir"
  },
  "name": "Untitled.ipynb"
 },
 "nbformat": 4,
 "nbformat_minor": 2
}
